{
 "cells": [
  {
   "cell_type": "markdown",
   "metadata": {},
   "source": [
    "### Práctica ANN-0:\n",
    "\n",
    "Modifique el código anterior, a fin de usar [Hot Encoding](https://www.quora.com/What-is-one-hot-encoding-and-when-is-it-used-in-data-science) y contar con 2 salidas en lugar de 1."
   ]
  },
  {
   "cell_type": "code",
   "execution_count": 6,
   "metadata": {
    "scrolled": true
   },
   "outputs": [
    {
     "name": "stdout",
     "output_type": "stream",
     "text": [
      "MLPClassifier(activation='logistic', alpha=0.0001, batch_size='auto',\n",
      "              beta_1=0.9, beta_2=0.999, early_stopping=False, epsilon=1e-08,\n",
      "              hidden_layer_sizes=(4, 2), learning_rate='constant',\n",
      "              learning_rate_init=0.001, max_iter=10000, momentum=0.9,\n",
      "              n_iter_no_change=10, nesterovs_momentum=True, power_t=0.5,\n",
      "              random_state=None, shuffle=True, solver='lbfgs', tol=1e-15,\n",
      "              validation_fraction=0.1, verbose=False, warm_start=False)\n",
      "Pesos W^(0): \n",
      ": [[ 4.49835102e+00  5.19298546e-03  4.49637090e+00  8.60635745e-04]\n",
      " [-4.49833478e+00 -1.49272926e-02 -4.49739984e+00  1.12348572e-02]]\n",
      "\n",
      "Pesos W^(1): \n",
      ": [[ 5.25836736e+00 -5.25881682e+00]\n",
      " [-1.94663891e-02  8.32847674e-03]\n",
      " [-5.25890870e+00  5.26149743e+00]\n",
      " [ 3.32199081e-03  4.73619820e-04]]\n",
      "\n",
      "Prueba con { 0|0 } =>  [0]\n",
      "\n",
      "Prueba con { 0|1 } =>  [1]\n",
      "\n",
      "Prueba con { 1|0 } =>  [1]\n",
      "\n",
      "Prueba con { 1|1 } =>  [0]\n"
     ]
    }
   ],
   "source": [
    "import numpy as np\n",
    "# Importamos el Perceptron Multicapa para Clasificacion\n",
    "from sklearn.neural_network import MLPClassifier\n",
    "\n",
    "%matplotlib inline\n",
    "\n",
    "x=np.array([[0,0],[0,1],[1,0],[1,1]])\n",
    "d=np.array([0,1,1,0])\n",
    "entradas = 2\n",
    "neuronas_capa_oculta = 4\n",
    "neuronas_capa_salida = 2\n",
    "# TODO:\n",
    "# Modificar las salidas deseadas para representarlas con 2 valores binarios\n",
    "\n",
    "\n",
    "# Modoficar los parametros de la Red Neuronal. Sustituir None por el valor correspondiente\n",
    "mlp=MLPClassifier(solver = 'lbfgs', activation='logistic', alpha=1e-4, tol=1e-15, max_iter=10000, \\\n",
    "                  hidden_layer_sizes=(neuronas_capa_oculta, neuronas_capa_salida))\n",
    "\n",
    "print(mlp)\n",
    "# Realizamos el proceso de entrenamiento con la nueva representacion de la salida. \n",
    "# Sustituir None por el valor correspondiente:\n",
    "\n",
    "# TODO:\n",
    "\n",
    "mlp.fit(x,d)\n",
    "\n",
    "# Mostramos los pesos entre la entrada y la capa oculta\n",
    "print('Pesos W^(0): \\n:',mlp.coefs_[0])\n",
    "\n",
    "# Mostramos los pesos entre la capa oculta y la capa de salida\n",
    "print('\\nPesos W^(1): \\n:',mlp.coefs_[1])\n",
    "\n",
    "# Probamos si la red devuelve valores apropiados de acuerdo a las entradas (test):\n",
    "for entrada in x:\n",
    "    print('\\nPrueba con {','|'.join([str(i) for i in entrada]),'} => ',mlp.predict(entrada.reshape(1,-1)))"
   ]
  },
  {
   "cell_type": "markdown",
   "metadata": {},
   "source": [
    "### Práctica ANN-1:\n",
    "\n",
    "Genere 1000 puntos aleatorios con coordenadas $(x_{1}, x_{2})$. Con estos puntos, deberá realizar las siguientes tareas:\n",
    "\n",
    "* Seleccionar de forma aleatoria 80% de los puntos para entrenar la red y el restante 20% se empleará para probar la red.\n",
    "* Entrenar la red hasta lograr un error mínimo.\n",
    "* Probar la red y presentar la matriz de [confusión](http://scikit-learn.org/stable/modules/generated/sklearn.metrics.confusion_matrix.html).\n",
    "* Indicar el nivel de [precisión](https://en.wikipedia.org/wiki/Precision_and_recall) (muestras correctamente clasificadas frente al total de muestras):\n",
    "\n",
    "$precision=\\frac{muestras ~~correctamente ~~clasificadas}{total~~ de~~ muestras}$"
   ]
  },
  {
   "cell_type": "code",
   "execution_count": 5,
   "metadata": {},
   "outputs": [
    {
     "name": "stdout",
     "output_type": "stream",
     "text": [
      "1000\n"
     ]
    }
   ],
   "source": [
    "import random\n",
    "import numpy as np\n",
    "import matplotlib.pyplot as pp\n",
    "x1=np.array([[random.uniform(-25,25),random.uniform(-25,25)]])\n",
    "i=1\n",
    "j=1\n",
    "while i<=999:\n",
    "    x1=np.append(x1,[[random.uniform(-25,25),random.uniform(-25,25)]],axis=0)\n",
    "    i+=1\n",
    "x2=np.array([random.choice(x1)])\n",
    "while j<=799:\n",
    "    x2=np.append(x2,[random.choice(x1)],axis=0)\n",
    "    j+=1\n",
    "x=np.arange(1.,231.,0.23)\n",
    "rv=np.random.uniform(0.,1.,size=len(x))\n",
    "\n",
    "mul=np.random.uniform(1.,4.7,size=len(x))\n",
    "\n",
    "salidas=np.array([random.choice((-1.,1.)) for i in range(len(x))])\n",
    "print(salidas.size)\n",
    "\n"
   ]
  },
  {
   "cell_type": "code",
   "execution_count": 4,
   "metadata": {
    "scrolled": true
   },
   "outputs": [
    {
     "name": "stderr",
     "output_type": "stream",
     "text": [
      "Using TensorFlow backend.\n"
     ]
    },
    {
     "name": "stdout",
     "output_type": "stream",
     "text": [
      "WARNING:tensorflow:From d:\\anaconda3\\envs\\ia1\\lib\\site-packages\\tensorflow\\python\\ops\\resource_variable_ops.py:435: colocate_with (from tensorflow.python.framework.ops) is deprecated and will be removed in a future version.\n",
      "Instructions for updating:\n",
      "Colocations handled automatically by placer.\n",
      "WARNING:tensorflow:From d:\\anaconda3\\envs\\ia1\\lib\\site-packages\\tensorflow\\python\\ops\\math_ops.py:3066: to_int32 (from tensorflow.python.ops.math_ops) is deprecated and will be removed in a future version.\n",
      "Instructions for updating:\n",
      "Use tf.cast instead.\n",
      "Train: 0.803, Test: 0.840\n"
     ]
    },
    {
     "data": {
      "image/png": "[encoded data removed]",
      "text/plain": [
       "<Figure size 432x288 with 1 Axes>"
      ]
     },
     "metadata": {
      "needs_background": "light"
     },
     "output_type": "display_data"
    }
   ],
   "source": [
    "from sklearn.datasets.samples_generator import make_blobs\n",
    "from keras.utils import to_categorical\n",
    "from keras.models import Sequential\n",
    "from keras.layers import Dense\n",
    "from matplotlib import pyplot\n",
    "%matplotlib inline\n",
    "# generate 2d classification dataset\n",
    "X, y = make_blobs(n_samples=1000, centers=3, n_features=2, cluster_std=2, random_state=2)\n",
    "# one hot encode output variable\n",
    "y = to_categorical(y)\n",
    "# split into train and test\n",
    "n_train = int(0.8 * X.shape[0])\n",
    "trainX, testX = X[:n_train, :], X[n_train:, :]\n",
    "trainy, testy = y[:n_train], y[n_train:]\n",
    "# define model\n",
    "model = Sequential()\n",
    "model.add(Dense(50, input_dim=2, activation='relu'))\n",
    "model.add(Dense(3, activation='softmax'))\n",
    "#model.compile(loss='categorical_crossentropy', optimizer='adam', metrics=['binary_accuracy'])\n",
    "model.compile(loss='categorical_crossentropy',\n",
    "              optimizer='sgd',\n",
    "              metrics=['acc'])\n",
    "# fit model\n",
    "history = model.fit(trainX, trainy, validation_data=(testX, testy), epochs=50, verbose=0)\n",
    "# evaluate the model\n",
    "_, train_acc = model.evaluate(trainX, trainy, verbose=0)\n",
    "_, test_acc = model.evaluate(testX, testy, verbose=0)\n",
    "print('Train: %.3f, Test: %.3f' % (train_acc, test_acc))\n",
    "# learning curves of model accuracy\n",
    "pyplot.plot(history.history['acc'], label='train')\n",
    "pyplot.plot(history.history['val_acc'], label='test')\n",
    "pyplot.legend()\n",
    "pyplot.show()"
   ]
  },
  {
   "cell_type": "code",
   "execution_count": null,
   "metadata": {},
   "outputs": [],
   "source": []
  },
  {
   "cell_type": "code",
   "execution_count": null,
   "metadata": {},
   "outputs": [],
   "source": []
  },
  {
   "cell_type": "code",
   "execution_count": null,
   "metadata": {},
   "outputs": [],
   "source": []
  }
 ],
 "metadata": {
  "kernelspec": {
   "display_name": "Python 3",
   "language": "python",
   "name": "python3"
  },
  "language_info": {
   "codemirror_mode": {
    "name": "ipython",
    "version": 3
   },
   "file_extension": ".py",
   "mimetype": "text/x-python",
   "name": "python",
   "nbconvert_exporter": "python",
   "pygments_lexer": "ipython3",
   "version": "3.7.1"
  }
 },
 "nbformat": 4,
 "nbformat_minor": 2
}
